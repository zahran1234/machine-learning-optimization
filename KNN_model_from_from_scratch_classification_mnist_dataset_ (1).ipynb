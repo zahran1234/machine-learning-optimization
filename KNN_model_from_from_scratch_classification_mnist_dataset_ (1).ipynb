{
  "nbformat": 4,
  "nbformat_minor": 0,
  "metadata": {
    "colab": {
      "provenance": []
    },
    "kernelspec": {
      "name": "python3",
      "display_name": "Python 3"
    },
    "language_info": {
      "name": "python"
    }
  },
  "cells": [
    {
      "cell_type": "code",
      "execution_count": 1,
      "metadata": {
        "id": "ppyBLyH-D26o"
      },
      "outputs": [],
      "source": [
        "\n",
        "\n",
        "from sklearn.model_selection import train_test_split\n",
        "from sklearn.neighbors import KNeighborsClassifier\n",
        "from keras.datasets import mnist\n",
        "import numpy as np\n",
        "\n"
      ]
    },
    {
      "cell_type": "markdown",
      "source": [
        "# #**collect mnist dataset**"
      ],
      "metadata": {
        "id": "9cF9pj0JFFQj"
      }
    },
    {
      "cell_type": "code",
      "source": [
        "\n",
        "(train_X, train_y), (test_X, test_y) = mnist.load_data()\n",
        "# use 10000 from 70000 samples\n",
        "y = train_y[:10000]\n",
        "X = train_X[:10000]"
      ],
      "metadata": {
        "colab": {
          "base_uri": "https://localhost:8080/"
        },
        "id": "5qin9jJnFDd6",
        "outputId": "74f205e1-4764-4dc3-c360-1759ba556bdd"
      },
      "execution_count": 2,
      "outputs": [
        {
          "output_type": "stream",
          "name": "stdout",
          "text": [
            "Downloading data from https://storage.googleapis.com/tensorflow/tf-keras-datasets/mnist.npz\n",
            "11490434/11490434 [==============================] - 0s 0us/step\n"
          ]
        }
      ]
    },
    {
      "cell_type": "markdown",
      "source": [
        "# **#divide the image into celles**"
      ],
      "metadata": {
        "id": "YnOvADK4E_TS"
      }
    },
    {
      "cell_type": "code",
      "source": [
        "def split(array, nrows, ncols):\n",
        "    r, h = array.shape\n",
        "\n",
        "    return (array.reshape(h // nrows, nrows, -1, ncols)\n",
        "            .swapaxes(1, 2)\n",
        "            .reshape(-1, nrows, ncols))"
      ],
      "metadata": {
        "id": "z8PkrOKTE9pl"
      },
      "execution_count": 3,
      "outputs": []
    },
    {
      "cell_type": "markdown",
      "source": [
        "\n",
        "# get cetroid "
      ],
      "metadata": {
        "id": "QKDBs35ME2XE"
      }
    },
    {
      "cell_type": "code",
      "source": [
        "def centroid(matrix, X, Y):\n",
        "    y = 0\n",
        "    x = 0\n",
        "    counter = 0\n",
        "    my_mat = []\n",
        "    for i in range(X):\n",
        "        for j in range(Y):\n",
        "            if matrix[i][j] == 0:\n",
        "                list = [[j, i]]\n",
        "                my_mat.append([j, Y - i])\n",
        "                counter += 1\n",
        "\n",
        "    for i in my_mat:\n",
        "        x = x + i[0]\n",
        "        y = y + i[1]\n",
        "    if counter == 0:\n",
        "        return 0, 0\n",
        "\n",
        "    return (x / counter), (y / counter)\n",
        "\n",
        "# save centroid data\n",
        "new_data = np.empty((1, 32))\n",
        "list = []\n",
        "\n",
        "for phote in X:\n",
        "    x2 = 0\n",
        "    y2 = 0\n",
        "    row = []\n",
        "    list = split(phote, 7, 7)\n",
        "\n",
        "    for i in list:\n",
        "        x1, y1 = centroid(i, 7, 7)\n",
        "        row.append(x1)\n",
        "        row.append(y1)\n",
        "    new_data = np.vstack([new_data, row])\n",
        "new_data = np.delete(new_data, 0, 0)"
      ],
      "metadata": {
        "id": "VuDQfgw8Ey1m"
      },
      "execution_count": 4,
      "outputs": []
    },
    {
      "cell_type": "markdown",
      "source": [
        "# **#9000 samples for train the model 1000 samples for test**"
      ],
      "metadata": {
        "id": "Ro7NwuJAFpd-"
      }
    },
    {
      "cell_type": "code",
      "source": [
        "\n",
        "[X_train, X_test, y_train, y_test] = train_test_split(new_data, y, test_size=0.1, random_state=44, shuffle=True)"
      ],
      "metadata": {
        "id": "q1MSrD_hEscF"
      },
      "execution_count": 5,
      "outputs": []
    },
    {
      "cell_type": "markdown",
      "source": [
        "# **#Implementation of knn**"
      ],
      "metadata": {
        "id": "4X6289w0FnGG"
      }
    },
    {
      "cell_type": "code",
      "source": [
        "\n",
        "class KNN:\n",
        "    # euclidean_distance(x, x_train)\n",
        "\n",
        "    def __init__(self, k):\n",
        "        self.k = k  # store K (K is Number of nearest neighbour)\n",
        "\n",
        "    def fit(self, X, y):\n",
        "        self.X_train = X\n",
        "        self.y_train = y\n",
        "\n",
        "    def predict(self, z):\n",
        "        list_for_all_distances = []\n",
        "        list_for_min_distance_classes = []\n",
        "        for i in self.X_train:\n",
        "            list_for_all_distances.append(np.linalg.norm(z - i))\n",
        "\n",
        "        for x in range(self.k):\n",
        "            min_distance = min(list_for_all_distances)\n",
        "            index = list_for_all_distances.index(min_distance)\n",
        "            list_for_all_distances[index] = float('inf')\n",
        "            list_for_min_distance_classes.append(self.y_train[index])\n",
        "        predicted_class = list_for_min_distance_classes.count(0)\n",
        "        for x in range(10):\n",
        "            if predicted_class < list_for_min_distance_classes.count(x):\n",
        "                predicted_class = x\n",
        "        return predicted_class\n",
        "\n",
        "    def score(self, X_test, Y_test):\n",
        "\n",
        "        counter = 0\n",
        "        counter_for_acc = 0\n",
        "        for i in X_test:\n",
        "            if self.predict(i) == Y_test[counter]:\n",
        "                counter_for_acc += 1\n",
        "            counter += 1\n",
        "\n",
        "        return (counter_for_acc / counter) * 100"
      ],
      "metadata": {
        "id": "s04bW9m9EjjL"
      },
      "execution_count": 6,
      "outputs": []
    },
    {
      "cell_type": "markdown",
      "source": [
        "## **model test**"
      ],
      "metadata": {
        "id": "FTZJ37L-Fuq7"
      }
    },
    {
      "cell_type": "code",
      "source": [
        "knn = KNN(10)\n",
        "knn.fit(new_data[:9000], y[:9000])\n",
        "print(\"_____________________________________________________\")\n",
        "print( \" test accuarcy \",knn.score(new_data[9000:10000], y[9000:10000]))"
      ],
      "metadata": {
        "colab": {
          "base_uri": "https://localhost:8080/"
        },
        "id": "YCFg19MYEgt-",
        "outputId": "f98d994c-970d-4c30-b2d7-32061e882215"
      },
      "execution_count": 8,
      "outputs": [
        {
          "output_type": "stream",
          "name": "stdout",
          "text": [
            "_____________________________________________________\n",
            " test accuarcy  75.4\n"
          ]
        }
      ]
    }
  ]
}