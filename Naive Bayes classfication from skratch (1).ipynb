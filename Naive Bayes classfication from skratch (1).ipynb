{
  "nbformat": 4,
  "nbformat_minor": 0,
  "metadata": {
    "colab": {
      "provenance": []
    },
    "kernelspec": {
      "name": "python3",
      "display_name": "Python 3"
    },
    "language_info": {
      "name": "python"
    }
  },
  "cells": [
    {
      "cell_type": "code",
      "execution_count": 1,
      "metadata": {
        "colab": {
          "base_uri": "https://localhost:8080/"
        },
        "id": "DgVrS9A6zRMM",
        "outputId": "8079e966-dad3-434e-8b60-6cf5204b829e"
      },
      "outputs": [
        {
          "output_type": "stream",
          "name": "stderr",
          "text": [
            "[nltk_data] Downloading package punkt to /root/nltk_data...\n",
            "[nltk_data]   Unzipping tokenizers/punkt.zip.\n"
          ]
        },
        {
          "output_type": "execute_result",
          "data": {
            "text/plain": [
              "True"
            ]
          },
          "metadata": {},
          "execution_count": 1
        }
      ],
      "source": [
        "from nltk.tokenize import word_tokenize , sent_tokenize \n",
        "from nltk.corpus import stopwords\n",
        "import nltk\n",
        "nltk.download('punkt')"
      ]
    },
    {
      "cell_type": "code",
      "source": [
        "!pip install wikipedia-api"
      ],
      "metadata": {
        "colab": {
          "base_uri": "https://localhost:8080/"
        },
        "id": "9EoEanFBHtjE",
        "outputId": "1c2787e6-079c-4ef7-f687-09c5ed031f83"
      },
      "execution_count": 2,
      "outputs": [
        {
          "output_type": "stream",
          "name": "stdout",
          "text": [
            "Looking in indexes: https://pypi.org/simple, https://us-python.pkg.dev/colab-wheels/public/simple/\n",
            "Collecting wikipedia-api\n",
            "  Downloading Wikipedia_API-0.5.8-py3-none-any.whl (13 kB)\n",
            "Requirement already satisfied: requests in /usr/local/lib/python3.10/dist-packages (from wikipedia-api) (2.27.1)\n",
            "Requirement already satisfied: certifi>=2017.4.17 in /usr/local/lib/python3.10/dist-packages (from requests->wikipedia-api) (2022.12.7)\n",
            "Requirement already satisfied: urllib3<1.27,>=1.21.1 in /usr/local/lib/python3.10/dist-packages (from requests->wikipedia-api) (1.26.15)\n",
            "Requirement already satisfied: charset-normalizer~=2.0.0 in /usr/local/lib/python3.10/dist-packages (from requests->wikipedia-api) (2.0.12)\n",
            "Requirement already satisfied: idna<4,>=2.5 in /usr/local/lib/python3.10/dist-packages (from requests->wikipedia-api) (3.4)\n",
            "Installing collected packages: wikipedia-api\n",
            "Successfully installed wikipedia-api-0.5.8\n"
          ]
        }
      ]
    },
    {
      "cell_type": "code",
      "source": [
        "import wikipediaapi"
      ],
      "metadata": {
        "id": "bL86F8xYzlth"
      },
      "execution_count": 3,
      "outputs": []
    },
    {
      "cell_type": "code",
      "source": [
        "!pip install wikipedia"
      ],
      "metadata": {
        "colab": {
          "base_uri": "https://localhost:8080/"
        },
        "id": "KRQojuXO1A8r",
        "outputId": "a5b45481-f010-47a7-b65d-4df9e58bba14"
      },
      "execution_count": 4,
      "outputs": [
        {
          "output_type": "stream",
          "name": "stdout",
          "text": [
            "Looking in indexes: https://pypi.org/simple, https://us-python.pkg.dev/colab-wheels/public/simple/\n",
            "Collecting wikipedia\n",
            "  Downloading wikipedia-1.4.0.tar.gz (27 kB)\n",
            "  Preparing metadata (setup.py) ... \u001b[?25l\u001b[?25hdone\n",
            "Requirement already satisfied: beautifulsoup4 in /usr/local/lib/python3.10/dist-packages (from wikipedia) (4.11.2)\n",
            "Requirement already satisfied: requests<3.0.0,>=2.0.0 in /usr/local/lib/python3.10/dist-packages (from wikipedia) (2.27.1)\n",
            "Requirement already satisfied: charset-normalizer~=2.0.0 in /usr/local/lib/python3.10/dist-packages (from requests<3.0.0,>=2.0.0->wikipedia) (2.0.12)\n",
            "Requirement already satisfied: idna<4,>=2.5 in /usr/local/lib/python3.10/dist-packages (from requests<3.0.0,>=2.0.0->wikipedia) (3.4)\n",
            "Requirement already satisfied: urllib3<1.27,>=1.21.1 in /usr/local/lib/python3.10/dist-packages (from requests<3.0.0,>=2.0.0->wikipedia) (1.26.15)\n",
            "Requirement already satisfied: certifi>=2017.4.17 in /usr/local/lib/python3.10/dist-packages (from requests<3.0.0,>=2.0.0->wikipedia) (2022.12.7)\n",
            "Requirement already satisfied: soupsieve>1.2 in /usr/local/lib/python3.10/dist-packages (from beautifulsoup4->wikipedia) (2.4.1)\n",
            "Building wheels for collected packages: wikipedia\n",
            "  Building wheel for wikipedia (setup.py) ... \u001b[?25l\u001b[?25hdone\n",
            "  Created wheel for wikipedia: filename=wikipedia-1.4.0-py3-none-any.whl size=11696 sha256=d1b6f69c1733df8d50f1b725467a35f094d0fb55a6885138c0abeb3c9fbf5bfa\n",
            "  Stored in directory: /root/.cache/pip/wheels/5e/b6/c5/93f3dec388ae76edc830cb42901bb0232504dfc0df02fc50de\n",
            "Successfully built wikipedia\n",
            "Installing collected packages: wikipedia\n",
            "Successfully installed wikipedia-1.4.0\n"
          ]
        }
      ]
    },
    {
      "cell_type": "code",
      "source": [
        "import wikipedia"
      ],
      "metadata": {
        "id": "09m9tvHr1Fc4"
      },
      "execution_count": 5,
      "outputs": []
    },
    {
      "cell_type": "markdown",
      "source": [
        "# **collect sport dataset**"
      ],
      "metadata": {
        "id": "S52_cckI7pMX"
      }
    },
    {
      "cell_type": "code",
      "source": [
        "foodball=wikipedia.summary('foodball', sentences=6)\n",
        "volley=wikipedia.summary('volleyball', sentences=6)\n",
        "basketball=wikipedia.summary('basketball', sentences=6)\n",
        "golf    =wikipedia.summary('Golf',     sentences=6)\n",
        "swimming=wikipedia.summary('Swimming' , sentences=6)\n",
        "\n"
      ],
      "metadata": {
        "id": "P7aS6qbL1pDC"
      },
      "execution_count": 6,
      "outputs": []
    },
    {
      "cell_type": "code",
      "source": [
        "sport_train=foodball+volley+basketball+golf\n",
        "sport_test=swimming "
      ],
      "metadata": {
        "id": "EiNSYfnrHUez"
      },
      "execution_count": 7,
      "outputs": []
    },
    {
      "cell_type": "code",
      "source": [
        "len(word_tokenize(sport_train))"
      ],
      "metadata": {
        "colab": {
          "base_uri": "https://localhost:8080/"
        },
        "id": "_b5dU7FsIJMY",
        "outputId": "c3c37d0f-c8c3-4db1-d2c0-0dcef79f4d5d"
      },
      "execution_count": 8,
      "outputs": [
        {
          "output_type": "execute_result",
          "data": {
            "text/plain": [
              "652"
            ]
          },
          "metadata": {},
          "execution_count": 8
        }
      ]
    },
    {
      "cell_type": "markdown",
      "source": [
        "# **collect operating system dataset**"
      ],
      "metadata": {
        "id": "icGffnc28CYO"
      }
    },
    {
      "cell_type": "code",
      "source": [
        "windows7=wikipedia.summary('windows7 operating system', sentences=6)\n",
        "mac=wikipedia.summary ('mac operating system', sentences=6)\n",
        "linux= wikipedia.summary('linux operating system', sentences=6)\n",
        "windows10=wikipedia.summary('windows10 operating system', sentences=6)\n",
        "android =wikipedia.summary('android operating system', sentences=6)\n",
        "\n"
      ],
      "metadata": {
        "id": "nmK_azsA8Bhi"
      },
      "execution_count": 9,
      "outputs": []
    },
    {
      "cell_type": "code",
      "source": [
        "os_train=windows7+windows10+mac+linux\n",
        "os_test=android\n"
      ],
      "metadata": {
        "id": "3LJoEdh8G68e"
      },
      "execution_count": 10,
      "outputs": []
    },
    {
      "cell_type": "code",
      "source": [
        "len(word_tokenize(os_train))"
      ],
      "metadata": {
        "colab": {
          "base_uri": "https://localhost:8080/"
        },
        "id": "HaNIBHfXIaI-",
        "outputId": "74de3f93-5ea0-4ec9-ee01-4bf52cfd9ee1"
      },
      "execution_count": 11,
      "outputs": [
        {
          "output_type": "execute_result",
          "data": {
            "text/plain": [
              "758"
            ]
          },
          "metadata": {},
          "execution_count": 11
        }
      ]
    },
    {
      "cell_type": "code",
      "source": [],
      "metadata": {
        "id": "85LWINuBWdHs"
      },
      "execution_count": 11,
      "outputs": []
    },
    {
      "cell_type": "markdown",
      "source": [
        "# **text preprocessing**"
      ],
      "metadata": {
        "id": "Cf_bsed4KCkh"
      }
    },
    {
      "cell_type": "code",
      "source": [
        "import nltk\n",
        "nltk.download('stopwords')\n",
        "nltk.download('wordnet')\n",
        "from nltk.stem import WordNetLemmatizer\n",
        "lemmatizer = WordNetLemmatizer()\n",
        "import re "
      ],
      "metadata": {
        "colab": {
          "base_uri": "https://localhost:8080/"
        },
        "id": "tCMKDFylfP_F",
        "outputId": "a788b440-19cc-4507-a35d-59bc91ee91b4"
      },
      "execution_count": 12,
      "outputs": [
        {
          "output_type": "stream",
          "name": "stderr",
          "text": [
            "[nltk_data] Downloading package stopwords to /root/nltk_data...\n",
            "[nltk_data]   Unzipping corpora/stopwords.zip.\n",
            "[nltk_data] Downloading package wordnet to /root/nltk_data...\n"
          ]
        }
      ]
    },
    {
      "cell_type": "code",
      "source": [
        "\"\"\"\n",
        "clean the text\n",
        "delete stop words \n",
        "apply lemmatization\n",
        "\"\"\"\n",
        "def preprocessing(text):\n",
        "  \n",
        "  text=text.lower()\n",
        "  text =re.sub('[^a-z]', \" \",text)\n",
        "  words=word_tokenize(text)\n",
        "  text=[]\n",
        "  for i in words:\n",
        "    if i not in stopwords.words('english'):\n",
        "      text.append(lemmatizer.lemmatize(i))\n",
        "  text=\" \". join(text)\n",
        "  return text\n",
        "\n"
      ],
      "metadata": {
        "id": "VNYi5qHAJ2mL"
      },
      "execution_count": 13,
      "outputs": []
    },
    {
      "cell_type": "markdown",
      "source": [
        "# **apply preprocessing on all data**"
      ],
      "metadata": {
        "id": "410GgxrtfWkm"
      }
    },
    {
      "cell_type": "code",
      "source": [
        "import nltk\n",
        "nltk.download('stopwords')\n",
        "nltk.download('wordnet')\n",
        "os_train=preprocessing(os_train)\n",
        "os_test=preprocessing(os_test)\n",
        "sport_train=preprocessing(sport_train)\n",
        "sport_test= preprocessing(sport_test)"
      ],
      "metadata": {
        "colab": {
          "base_uri": "https://localhost:8080/"
        },
        "id": "DXFMFMJIXPND",
        "outputId": "b82ef5be-6db8-4bb5-d081-c9fe8c6c6309"
      },
      "execution_count": 14,
      "outputs": [
        {
          "output_type": "stream",
          "name": "stderr",
          "text": [
            "[nltk_data] Downloading package stopwords to /root/nltk_data...\n",
            "[nltk_data]   Package stopwords is already up-to-date!\n",
            "[nltk_data] Downloading package wordnet to /root/nltk_data...\n",
            "[nltk_data]   Package wordnet is already up-to-date!\n"
          ]
        }
      ]
    },
    {
      "cell_type": "code",
      "source": [
        "def get_tokens(text):\n",
        "  all_words=word_tokenize(text)\n",
        "  unique_words=set(all_words)\n",
        "  return list (unique_words)"
      ],
      "metadata": {
        "id": "ZbbiGxFfX8oz"
      },
      "execution_count": 15,
      "outputs": []
    },
    {
      "cell_type": "code",
      "source": [
        "class NB :\n",
        "  def __init__(self , train_as_list, number_labels):\n",
        "    self.train=train_as_list\n",
        "    self.num_labels=number_labels\n",
        "    self.num_sentences=0\n",
        "    self.total_count_words_for_classes=[]\n",
        "    for i in self.train:\n",
        "      self.num_sentences+=len(i)\n",
        "      self.total_count_words_for_classes.append(word_tokenize(\" \".join(i)))\n",
        "\n",
        "  def class_prob(self):\n",
        "    self.class_prob={}\n",
        "    for i in range(len(self.train)):\n",
        "      self.class_prob['class'+str(i+1)]=len(self.train[i])/self.num_sentences\n",
        "    print(self.class_prob)\n",
        "\n",
        "  def conditional_prob (self):\n",
        "    self.all_data=[]\n",
        "    for i in self.train:\n",
        "      self.all_data.append(\" \".join(i))\n",
        "    self.all_data=\" \".join(self.all_data)\n",
        "    self.unique_words=get_tokens(self.all_data)\n",
        "    self.all_count=[]\n",
        "    self.all_prob=[]\n",
        "    self.count={}\n",
        "    self.prob={}\n",
        "    for i in self.train:\n",
        "      for x in self.unique_words :\n",
        "        self.count[x]=word_tokenize(\" \".join(i)).count(x)\n",
        "        self.prob[x]=(self.count[x]+1)/(len(self.unique_words)+len(word_tokenize(\" \".join(i))))\n",
        "\n",
        "      self.all_count.append(self.count)\n",
        "      self.all_prob.append(self.prob)\n",
        "      self.count={}\n",
        "      self.prob={}\n",
        "    print(self.all_prob)\n",
        "  def predict(self,sent):\n",
        "    results=[]\n",
        "    res=1\n",
        "\n",
        "    for i  in range(self.num_labels):\n",
        "      for x in (word_tokenize(sent)):\n",
        "        if x in self.all_prob[i].keys():\n",
        "          res=self.all_prob[i][x]*res\n",
        "      results.append(res)\n",
        "      res=1\n",
        "      \n",
        "    return results\n",
        "\n",
        "\n",
        "    \n",
        "\n",
        "\n",
        "\n",
        "\n",
        "      \n",
        "      \n",
        "      \n",
        "\n",
        "\n",
        "    \n",
        "  \n",
        "\n",
        "    \n",
        "\n",
        "    \n",
        "\n",
        "\n",
        "   \n",
        "\n",
        "    \n",
        "    "
      ],
      "metadata": {
        "id": "4dgY6lnVhQHf"
      },
      "execution_count": 16,
      "outputs": []
    },
    {
      "cell_type": "code",
      "source": [
        "train_dataset=[]\n",
        "train_dataset.append(sent_tokenize(os_train))\n",
        "train_dataset.append(sent_tokenize(sport_train))\n",
        "num_lab=2"
      ],
      "metadata": {
        "id": "H5y9Jdvb88gs"
      },
      "execution_count": 19,
      "outputs": []
    },
    {
      "cell_type": "code",
      "source": [
        "train_dataset"
      ],
      "metadata": {
        "colab": {
          "base_uri": "https://localhost:8080/"
        },
        "id": "ArcgUbwkh9Cf",
        "outputId": "f99a2fe0-5214-4e93-e31d-38551d0e1515"
      },
      "execution_count": 27,
      "outputs": [
        {
          "output_type": "execute_result",
          "data": {
            "text/plain": [
              "[['microsoft window group several proprietary graphical operating system family developed marketed microsoft family caters certain sector computing industry example window nt consumer window server server window iot embedded system defunct window family include window x window mobile window phone first version window released november graphical operating system shell m do response growing interest graphical user interface gui window popular desktop operating system world market share april according statcounter however window used operating system including mobile desktop os due android massive growth september recent version window window consumer pc tablet window enterprise corporation window server server microsoft window group several proprietary graphical operating system family developed marketed microsoft family caters certain sector computing industry example window nt consumer window server server window iot embedded system defunct window family include window x window mobile window phone first version window released november graphical operating system shell m do response growing interest graphical user interface gui window popular desktop operating system world market share april according statcounter however window used operating system including mobile desktop os due android massive growth september recent version window window consumer pc tablet window enterprise corporation window server server two major family mac operating system developed apple inc apple debuted operating system known classic mac o release original macintosh system software system rebranded mac o pre installed every macintosh offered macintosh clone short time noted ease use also criticized lack modern technology compared competitor current mac operating system macos originally named mac o x o x developed apple purchase next mac o x brought entirely new architecture based nextstep unix system eliminated many technical challenge classic mac o faced current macos pre installed every mac receives major update annually linux listen lee nuuks lin uuks family open source unix like operating system based linux kernel operating system kernel first released september linus torvalds linux typically packaged linux distribution includes kernel supporting system software library many provided gnu project many linux distribution use word linux name free software foundation us name gnu linux emphasize importance gnu software causing controversy popular linux distribution include debian fedora linux ubuntu latter consists many different distribution modification including lubuntu xubuntu commercial distribution include red hat enterprise linux suse linux enterprise desktop linux distribution include windowing system x wayland desktop environment gnome kde plasma distribution intended server may omit graphic altogether include solution stack lamp linux freely redistributable anyone may create distribution purpose linux originally developed personal computer based intel x architecture since ported platform operating system'],\n",
              " ['football family team sport involve varying degree kicking ball score goal unqualified word football normally mean form football popular word used sport commonly called football include association football known soccer north america ireland australia gridiron football specifically american football canadian football australian rule football rugby union rugby league gaelic football various form football share varying extent common origin known football code number reference traditional ancient prehistoric ball game played many different part world contemporary code football traced back codification game english public school th century volleyball team sport two team six player separated net team try score point grounding ball team court organized rule part official program summer olympic game since tokyo beach volleyball introduced programme atlanta summer olympics adapted version volleyball summer paralympic game sitting volleyball complete set rule extensive play essentially proceeds follows player one team begin rally serving ball tossing releasing hitting hand arm behind back boundary line court net receiving team court baseball bat ball sport played two team nine player taking turn batting fielding game occurs course several play play generally beginning player fielding team called pitcher throw ball player batting team called batter try hit bat objective offensive team batting team hit ball field play away team player allowing player run base advance counter clockwise around four base score called run objective defensive team referred fielding team prevent batter becoming runner prevent runner advance around base run scored runner legally advance around base order touch home plate place player started batter principal objective batting team player reach first base safely generally occurs either batter hit ball reach first base opponent retrieves ball touch base pitcher persists throwing ball batter reach gold chemical element symbol au latin aurum gold atomic number make one higher atomic number element occur naturally bright slightly orange yellow dense soft malleable ductile metal pure form chemically gold transition metal group element one least reactive chemical element solid standard condition gold often occurs free elemental native state nugget grain rock vein alluvial deposit']]"
            ]
          },
          "metadata": {},
          "execution_count": 27
        }
      ]
    },
    {
      "cell_type": "code",
      "source": [
        "model=NB(train_dataset,num_lab)"
      ],
      "metadata": {
        "id": "LvVoSTdmrxvf"
      },
      "execution_count": 20,
      "outputs": []
    },
    {
      "cell_type": "code",
      "source": [
        "model.class_prob()"
      ],
      "metadata": {
        "colab": {
          "base_uri": "https://localhost:8080/"
        },
        "id": "uTVtbnLHsTvi",
        "outputId": "316a32ff-c76a-4ae0-e088-3a9bba64db84"
      },
      "execution_count": 21,
      "outputs": [
        {
          "output_type": "stream",
          "name": "stdout",
          "text": [
            "{'class1': 0.5, 'class2': 0.5}\n"
          ]
        }
      ]
    },
    {
      "cell_type": "code",
      "source": [
        "model.conditional_prob()"
      ],
      "metadata": {
        "colab": {
          "base_uri": "https://localhost:8080/"
        },
        "id": "RZDZkDf7s9P3",
        "outputId": "babd5075-a2c6-40c4-8d72-662ef752b26c"
      },
      "execution_count": 22,
      "outputs": [
        {
          "output_type": "stream",
          "name": "stdout",
          "text": [
            "[{'industry': 0.0038560411311053984, 'macintosh': 0.005141388174807198, 'version': 0.006426735218508998, 'wayland': 0.002570694087403599, 'provided': 0.002570694087403599, 'base': 0.0012853470437017994, 'normally': 0.0012853470437017994, 'like': 0.002570694087403599, 'platform': 0.002570694087403599, 'distribution': 0.011568123393316195, 'traditional': 0.0012853470437017994, 'macos': 0.0038560411311053984, 'often': 0.0012853470437017994, 'group': 0.0038560411311053984, 'april': 0.0038560411311053984, 'union': 0.0012853470437017994, 'typically': 0.002570694087403599, 'update': 0.002570694087403599, 'play': 0.0012853470437017994, 'consists': 0.002570694087403599, 'alluvial': 0.0012853470437017994, 'objective': 0.0012853470437017994, 'enterprise': 0.006426735218508998, 'consumer': 0.006426735218508998, 'uuks': 0.002570694087403599, 'word': 0.002570694087403599, 'programme': 0.0012853470437017994, 'ancient': 0.0012853470437017994, 'compared': 0.002570694087403599, 'line': 0.0012853470437017994, 'code': 0.0012853470437017994, 'ireland': 0.0012853470437017994, 'lin': 0.002570694087403599, 'elemental': 0.0012853470437017994, 'current': 0.0038560411311053984, 'also': 0.002570694087403599, 'competitor': 0.002570694087403599, 'commonly': 0.0012853470437017994, 'kernel': 0.005141388174807198, 'anyone': 0.002570694087403599, 'growth': 0.0038560411311053984, 'team': 0.0012853470437017994, 'installed': 0.0038560411311053984, 'north': 0.0012853470437017994, 'orange': 0.0012853470437017994, 'introduced': 0.0012853470437017994, 'organized': 0.0012853470437017994, 'market': 0.0038560411311053984, 'score': 0.0012853470437017994, 'batter': 0.0012853470437017994, 'australian': 0.0012853470437017994, 'modern': 0.002570694087403599, 'proprietary': 0.0038560411311053984, 'grain': 0.0012853470437017994, 'window': 0.03984575835475578, 'yellow': 0.0012853470437017994, 'grounding': 0.0012853470437017994, 'canadian': 0.0012853470437017994, 'place': 0.0012853470437017994, 'embedded': 0.0038560411311053984, 'os': 0.0038560411311053984, 'association': 0.0012853470437017994, 'specifically': 0.0012853470437017994, 'releasing': 0.0012853470437017994, 'certain': 0.0038560411311053984, 'free': 0.002570694087403599, 'throwing': 0.0012853470437017994, 'open': 0.002570694087403599, 'player': 0.0012853470437017994, 'inc': 0.002570694087403599, 'including': 0.005141388174807198, 'prehistoric': 0.0012853470437017994, 'challenge': 0.002570694087403599, 'computer': 0.002570694087403599, 'red': 0.002570694087403599, 'mean': 0.0012853470437017994, 'nuuks': 0.002570694087403599, 'reference': 0.0012853470437017994, 'hit': 0.0012853470437017994, 'fielding': 0.0012853470437017994, 'different': 0.002570694087403599, 'major': 0.0038560411311053984, 'suse': 0.002570694087403599, 'server': 0.012853470437017995, 'emphasize': 0.002570694087403599, 'tablet': 0.0038560411311053984, 'noted': 0.002570694087403599, 'begin': 0.0012853470437017994, 'commercial': 0.002570694087403599, 'chemically': 0.0012853470437017994, 'arm': 0.0012853470437017994, 'pure': 0.0012853470437017994, 'latin': 0.0012853470437017994, 'degree': 0.0012853470437017994, 'xubuntu': 0.002570694087403599, 'runner': 0.0012853470437017994, 'named': 0.002570694087403599, 'next': 0.002570694087403599, 'unix': 0.0038560411311053984, 'listen': 0.002570694087403599, 'entirely': 0.002570694087403599, 'occurs': 0.0012853470437017994, 'game': 0.0012853470437017994, 'common': 0.0012853470437017994, 'intel': 0.002570694087403599, 'criticized': 0.002570694087403599, 'purpose': 0.002570694087403599, 'traced': 0.0012853470437017994, 'environment': 0.002570694087403599, 'gold': 0.0012853470437017994, 'torvalds': 0.002570694087403599, 'symbol': 0.0012853470437017994, 'source': 0.002570694087403599, 'occur': 0.0012853470437017994, 'solution': 0.002570694087403599, 'hitting': 0.0012853470437017994, 'metal': 0.0012853470437017994, 'every': 0.0038560411311053984, 'mac': 0.011568123393316195, 'interface': 0.0038560411311053984, 'omit': 0.002570694087403599, 'short': 0.002570694087403599, 'counter': 0.0012853470437017994, 'public': 0.0012853470437017994, 'complete': 0.0012853470437017994, 'bat': 0.0012853470437017994, 'kicking': 0.0012853470437017994, 'packaged': 0.002570694087403599, 'around': 0.0012853470437017994, 'scored': 0.0012853470437017994, 'transition': 0.0012853470437017994, 'boundary': 0.0012853470437017994, 'part': 0.0012853470437017994, 'slightly': 0.0012853470437017994, 'apple': 0.005141388174807198, 'either': 0.0012853470437017994, 'importance': 0.002570694087403599, 'foundation': 0.002570694087403599, 'called': 0.0012853470437017994, 'official': 0.0012853470437017994, 'solid': 0.0012853470437017994, 'corporation': 0.0038560411311053984, 'started': 0.0012853470437017994, 'olympic': 0.0012853470437017994, 'lee': 0.002570694087403599, 'o': 0.008997429305912597, 'state': 0.0012853470437017994, 'shell': 0.0038560411311053984, 'original': 0.002570694087403599, 'league': 0.0012853470437017994, 'follows': 0.0012853470437017994, 'prevent': 0.0012853470437017994, 'eliminated': 0.002570694087403599, 'm': 0.0038560411311053984, 'based': 0.005141388174807198, 'annually': 0.002570694087403599, 'sport': 0.0012853470437017994, 'ported': 0.002570694087403599, 'gnu': 0.005141388174807198, 'ductile': 0.0012853470437017994, 'system': 0.028277634961439587, 'nine': 0.0012853470437017994, 'reactive': 0.0012853470437017994, 'soft': 0.0012853470437017994, 'home': 0.0012853470437017994, 'purchase': 0.002570694087403599, 'mobile': 0.006426735218508998, 'developed': 0.007712082262210797, 'pc': 0.0038560411311053984, 'phone': 0.0038560411311053984, 'classic': 0.0038560411311053984, 'released': 0.005141388174807198, 'use': 0.0038560411311053984, 'origin': 0.0012853470437017994, 'summer': 0.0012853470437017994, 'include': 0.008997429305912597, 'bright': 0.0012853470437017994, 'beach': 0.0012853470437017994, 'paralympic': 0.0012853470437017994, 'ease': 0.002570694087403599, 'november': 0.0038560411311053984, 'according': 0.0038560411311053984, 'australia': 0.0012853470437017994, 'plate': 0.0012853470437017994, 'deposit': 0.0012853470437017994, 'rule': 0.0012853470437017994, 'may': 0.0038560411311053984, 'latter': 0.002570694087403599, 'technical': 0.002570694087403599, 'fedora': 0.002570694087403599, 'involve': 0.0012853470437017994, 'native': 0.0012853470437017994, 'rock': 0.0012853470437017994, 'goal': 0.0012853470437017994, 'growing': 0.0038560411311053984, 'net': 0.0012853470437017994, 'four': 0.0012853470437017994, 'plasma': 0.002570694087403599, 'massive': 0.0038560411311053984, 'architecture': 0.0038560411311053984, 'safely': 0.0012853470437017994, 'gridiron': 0.0012853470437017994, 'receives': 0.002570694087403599, 'soccer': 0.0012853470437017994, 'clockwise': 0.0012853470437017994, 'nt': 0.0038560411311053984, 'debuted': 0.002570694087403599, 'try': 0.0012853470437017994, 'allowing': 0.0012853470437017994, 'one': 0.0012853470437017994, 'retrieves': 0.0012853470437017994, 'played': 0.0012853470437017994, 'name': 0.0038560411311053984, 'baseball': 0.0012853470437017994, 'statcounter': 0.0038560411311053984, 'faced': 0.002570694087403599, 'response': 0.0038560411311053984, 'batting': 0.0012853470437017994, 'brought': 0.002570694087403599, 'windowing': 0.002570694087403599, 'becoming': 0.0012853470437017994, 'contemporary': 0.0012853470437017994, 'higher': 0.0012853470437017994, 'ball': 0.0012853470437017994, 'six': 0.0012853470437017994, 'make': 0.0012853470437017994, 'taking': 0.0012853470437017994, 'since': 0.002570694087403599, 'controversy': 0.002570694087403599, 'hat': 0.002570694087403599, 'includes': 0.002570694087403599, 'court': 0.0012853470437017994, 'reach': 0.0012853470437017994, 'nextstep': 0.002570694087403599, 'point': 0.0012853470437017994, 'au': 0.0012853470437017994, 'course': 0.0012853470437017994, 'linux': 0.019280205655526992, 'intended': 0.002570694087403599, 'standard': 0.0012853470437017994, 'principal': 0.0012853470437017994, 'rugby': 0.0012853470437017994, 'personal': 0.002570694087403599, 'hand': 0.0012853470437017994, 'create': 0.002570694087403599, 'project': 0.002570694087403599, 'touch': 0.0012853470437017994, 'recent': 0.0038560411311053984, 'throw': 0.0012853470437017994, 'family': 0.011568123393316195, 'adapted': 0.0012853470437017994, 'freely': 0.002570694087403599, 'beginning': 0.0012853470437017994, 'us': 0.002570694087403599, 'century': 0.0012853470437017994, 'lack': 0.002570694087403599, 'volleyball': 0.0012853470437017994, 'share': 0.0038560411311053984, 'tossing': 0.0012853470437017994, 'ubuntu': 0.002570694087403599, 'chemical': 0.0012853470437017994, 'extent': 0.0012853470437017994, 'olympics': 0.0012853470437017994, 'stack': 0.002570694087403599, 'referred': 0.0012853470437017994, 'iot': 0.0038560411311053984, 'clone': 0.002570694087403599, 'september': 0.005141388174807198, 'away': 0.0012853470437017994, 'dense': 0.0012853470437017994, 'program': 0.0012853470437017994, 'software': 0.006426735218508998, 'extensive': 0.0012853470437017994, 'rebranded': 0.002570694087403599, 'caters': 0.0038560411311053984, 'proceeds': 0.0012853470437017994, 'aurum': 0.0012853470437017994, 'form': 0.0012853470437017994, 'linus': 0.002570694087403599, 'condition': 0.0012853470437017994, 'behind': 0.0012853470437017994, 'offered': 0.002570694087403599, 'technology': 0.002570694087403599, 'least': 0.0012853470437017994, 'rally': 0.0012853470437017994, 'graphical': 0.008997429305912597, 'nugget': 0.0012853470437017994, 'pre': 0.0038560411311053984, 'modification': 0.002570694087403599, 'generally': 0.0012853470437017994, 'known': 0.002570694087403599, 'due': 0.0038560411311053984, 'x': 0.010282776349614395, 'defunct': 0.0038560411311053984, 'atomic': 0.0012853470437017994, 'malleable': 0.0012853470437017994, 'naturally': 0.0012853470437017994, 'varying': 0.0012853470437017994, 'essentially': 0.0012853470437017994, 'originally': 0.0038560411311053984, 'supporting': 0.002570694087403599, 'popular': 0.005141388174807198, 'interest': 0.0038560411311053984, 'football': 0.0012853470437017994, 'run': 0.0012853470437017994, 'microsoft': 0.006426735218508998, 'gnome': 0.002570694087403599, 'tokyo': 0.0012853470437017994, 'kde': 0.002570694087403599, 'gaelic': 0.0012853470437017994, 'american': 0.0012853470437017994, 'lamp': 0.002570694087403599, 'order': 0.0012853470437017994, 'th': 0.0012853470437017994, 'android': 0.0038560411311053984, 'operating': 0.019280205655526992, 'defensive': 0.0012853470437017994, 'legally': 0.0012853470437017994, 'advance': 0.0012853470437017994, 'america': 0.0012853470437017994, 'sitting': 0.0012853470437017994, 'first': 0.005141388174807198, 'world': 0.0038560411311053984, 'graphic': 0.002570694087403599, 'unqualified': 0.0012853470437017994, 'turn': 0.0012853470437017994, 'do': 0.0038560411311053984, 'sector': 0.0038560411311053984, 'number': 0.0012853470437017994, 'back': 0.0012853470437017994, 'gui': 0.0038560411311053984, 'release': 0.002570694087403599, 'school': 0.0012853470437017994, 'two': 0.002570694087403599, 'vein': 0.0012853470437017994, 'serving': 0.0012853470437017994, 'user': 0.0038560411311053984, 'english': 0.0012853470437017994, 'receiving': 0.0012853470437017994, 'altogether': 0.002570694087403599, 'time': 0.002570694087403599, 'new': 0.002570694087403599, 'used': 0.0038560411311053984, 'lubuntu': 0.002570694087403599, 'marketed': 0.0038560411311053984, 'several': 0.0038560411311053984, 'many': 0.006426735218508998, 'atlanta': 0.0012853470437017994, 'opponent': 0.0012853470437017994, 'various': 0.0012853470437017994, 'desktop': 0.008997429305912597, 'example': 0.0038560411311053984, 'pitcher': 0.0012853470437017994, 'element': 0.0012853470437017994, 'however': 0.0038560411311053984, 'causing': 0.002570694087403599, 'offensive': 0.0012853470437017994, 'codification': 0.0012853470437017994, 'separated': 0.0012853470437017994, 'field': 0.0012853470437017994, 'computing': 0.0038560411311053984, 'redistributable': 0.002570694087403599, 'debian': 0.002570694087403599, 'library': 0.002570694087403599, 'persists': 0.0012853470437017994, 'set': 0.0012853470437017994}, {'industry': 0.0014326647564469914, 'macintosh': 0.0014326647564469914, 'version': 0.0028653295128939827, 'wayland': 0.0014326647564469914, 'provided': 0.0014326647564469914, 'base': 0.011461318051575931, 'normally': 0.0028653295128939827, 'like': 0.0014326647564469914, 'platform': 0.0014326647564469914, 'distribution': 0.0014326647564469914, 'traditional': 0.0028653295128939827, 'macos': 0.0014326647564469914, 'often': 0.0028653295128939827, 'group': 0.0028653295128939827, 'april': 0.0014326647564469914, 'union': 0.0028653295128939827, 'typically': 0.0014326647564469914, 'update': 0.0014326647564469914, 'play': 0.0071633237822349575, 'consists': 0.0014326647564469914, 'alluvial': 0.0028653295128939827, 'objective': 0.0057306590257879654, 'enterprise': 0.0014326647564469914, 'consumer': 0.0014326647564469914, 'uuks': 0.0014326647564469914, 'word': 0.004297994269340974, 'programme': 0.0028653295128939827, 'ancient': 0.0028653295128939827, 'compared': 0.0014326647564469914, 'line': 0.0028653295128939827, 'code': 0.004297994269340974, 'ireland': 0.0028653295128939827, 'lin': 0.0014326647564469914, 'elemental': 0.0028653295128939827, 'current': 0.0014326647564469914, 'also': 0.0014326647564469914, 'competitor': 0.0014326647564469914, 'commonly': 0.0028653295128939827, 'kernel': 0.0014326647564469914, 'anyone': 0.0014326647564469914, 'growth': 0.0014326647564469914, 'team': 0.024355300859598854, 'installed': 0.0014326647564469914, 'north': 0.0028653295128939827, 'orange': 0.0028653295128939827, 'introduced': 0.0028653295128939827, 'organized': 0.0028653295128939827, 'market': 0.0014326647564469914, 'score': 0.0057306590257879654, 'batter': 0.008595988538681949, 'australian': 0.0028653295128939827, 'modern': 0.0014326647564469914, 'proprietary': 0.0014326647564469914, 'grain': 0.0028653295128939827, 'window': 0.0014326647564469914, 'yellow': 0.0028653295128939827, 'grounding': 0.0028653295128939827, 'canadian': 0.0028653295128939827, 'place': 0.0028653295128939827, 'embedded': 0.0014326647564469914, 'os': 0.0014326647564469914, 'association': 0.0028653295128939827, 'specifically': 0.0028653295128939827, 'releasing': 0.0028653295128939827, 'certain': 0.0014326647564469914, 'free': 0.0028653295128939827, 'throwing': 0.0028653295128939827, 'open': 0.0014326647564469914, 'player': 0.014326647564469915, 'inc': 0.0014326647564469914, 'including': 0.0014326647564469914, 'prehistoric': 0.0028653295128939827, 'challenge': 0.0014326647564469914, 'computer': 0.0014326647564469914, 'red': 0.0014326647564469914, 'mean': 0.0028653295128939827, 'nuuks': 0.0014326647564469914, 'reference': 0.0028653295128939827, 'hit': 0.0057306590257879654, 'fielding': 0.0057306590257879654, 'different': 0.0028653295128939827, 'major': 0.0014326647564469914, 'suse': 0.0014326647564469914, 'server': 0.0014326647564469914, 'emphasize': 0.0014326647564469914, 'tablet': 0.0014326647564469914, 'noted': 0.0014326647564469914, 'begin': 0.0028653295128939827, 'commercial': 0.0014326647564469914, 'chemically': 0.0028653295128939827, 'arm': 0.0028653295128939827, 'pure': 0.0028653295128939827, 'latin': 0.0028653295128939827, 'degree': 0.0028653295128939827, 'xubuntu': 0.0014326647564469914, 'runner': 0.0057306590257879654, 'named': 0.0014326647564469914, 'next': 0.0014326647564469914, 'unix': 0.0014326647564469914, 'listen': 0.0014326647564469914, 'entirely': 0.0014326647564469914, 'occurs': 0.0057306590257879654, 'game': 0.008595988538681949, 'common': 0.0028653295128939827, 'intel': 0.0014326647564469914, 'criticized': 0.0014326647564469914, 'purpose': 0.0014326647564469914, 'traced': 0.0028653295128939827, 'environment': 0.0014326647564469914, 'gold': 0.0071633237822349575, 'torvalds': 0.0014326647564469914, 'symbol': 0.0028653295128939827, 'source': 0.0014326647564469914, 'occur': 0.0028653295128939827, 'solution': 0.0014326647564469914, 'hitting': 0.0028653295128939827, 'metal': 0.004297994269340974, 'every': 0.0014326647564469914, 'mac': 0.0014326647564469914, 'interface': 0.0014326647564469914, 'omit': 0.0014326647564469914, 'short': 0.0014326647564469914, 'counter': 0.0028653295128939827, 'public': 0.0028653295128939827, 'complete': 0.0028653295128939827, 'bat': 0.004297994269340974, 'kicking': 0.0028653295128939827, 'packaged': 0.0014326647564469914, 'around': 0.0057306590257879654, 'scored': 0.0028653295128939827, 'transition': 0.0028653295128939827, 'boundary': 0.0028653295128939827, 'part': 0.004297994269340974, 'slightly': 0.0028653295128939827, 'apple': 0.0014326647564469914, 'either': 0.0028653295128939827, 'importance': 0.0014326647564469914, 'foundation': 0.0014326647564469914, 'called': 0.0071633237822349575, 'official': 0.0028653295128939827, 'solid': 0.0028653295128939827, 'corporation': 0.0014326647564469914, 'started': 0.0028653295128939827, 'olympic': 0.0028653295128939827, 'lee': 0.0014326647564469914, 'o': 0.0014326647564469914, 'state': 0.0028653295128939827, 'shell': 0.0014326647564469914, 'original': 0.0014326647564469914, 'league': 0.0028653295128939827, 'follows': 0.0028653295128939827, 'prevent': 0.004297994269340974, 'eliminated': 0.0014326647564469914, 'm': 0.0014326647564469914, 'based': 0.0014326647564469914, 'annually': 0.0014326647564469914, 'sport': 0.0071633237822349575, 'ported': 0.0014326647564469914, 'gnu': 0.0014326647564469914, 'ductile': 0.0028653295128939827, 'system': 0.0014326647564469914, 'nine': 0.0028653295128939827, 'reactive': 0.0028653295128939827, 'soft': 0.0028653295128939827, 'home': 0.0028653295128939827, 'purchase': 0.0014326647564469914, 'mobile': 0.0014326647564469914, 'developed': 0.0014326647564469914, 'pc': 0.0014326647564469914, 'phone': 0.0014326647564469914, 'classic': 0.0014326647564469914, 'released': 0.0014326647564469914, 'use': 0.0014326647564469914, 'origin': 0.0028653295128939827, 'summer': 0.0057306590257879654, 'include': 0.0028653295128939827, 'bright': 0.0028653295128939827, 'beach': 0.0028653295128939827, 'paralympic': 0.0028653295128939827, 'ease': 0.0014326647564469914, 'november': 0.0014326647564469914, 'according': 0.0014326647564469914, 'australia': 0.0028653295128939827, 'plate': 0.0028653295128939827, 'deposit': 0.0028653295128939827, 'rule': 0.0057306590257879654, 'may': 0.0014326647564469914, 'latter': 0.0014326647564469914, 'technical': 0.0014326647564469914, 'fedora': 0.0014326647564469914, 'involve': 0.0028653295128939827, 'native': 0.0028653295128939827, 'rock': 0.0028653295128939827, 'goal': 0.0028653295128939827, 'growing': 0.0014326647564469914, 'net': 0.004297994269340974, 'four': 0.0028653295128939827, 'plasma': 0.0014326647564469914, 'massive': 0.0014326647564469914, 'architecture': 0.0014326647564469914, 'safely': 0.0028653295128939827, 'gridiron': 0.0028653295128939827, 'receives': 0.0014326647564469914, 'soccer': 0.0028653295128939827, 'clockwise': 0.0028653295128939827, 'nt': 0.0014326647564469914, 'debuted': 0.0014326647564469914, 'try': 0.004297994269340974, 'allowing': 0.0028653295128939827, 'one': 0.0057306590257879654, 'retrieves': 0.0028653295128939827, 'played': 0.004297994269340974, 'name': 0.0014326647564469914, 'baseball': 0.0028653295128939827, 'statcounter': 0.0014326647564469914, 'faced': 0.0014326647564469914, 'response': 0.0014326647564469914, 'batting': 0.0071633237822349575, 'brought': 0.0014326647564469914, 'windowing': 0.0014326647564469914, 'becoming': 0.0028653295128939827, 'contemporary': 0.0028653295128939827, 'higher': 0.0028653295128939827, 'ball': 0.015759312320916905, 'six': 0.0028653295128939827, 'make': 0.0028653295128939827, 'taking': 0.0028653295128939827, 'since': 0.0028653295128939827, 'controversy': 0.0014326647564469914, 'hat': 0.0014326647564469914, 'includes': 0.0014326647564469914, 'court': 0.0057306590257879654, 'reach': 0.0057306590257879654, 'nextstep': 0.0014326647564469914, 'point': 0.0028653295128939827, 'au': 0.0028653295128939827, 'course': 0.0028653295128939827, 'linux': 0.0014326647564469914, 'intended': 0.0014326647564469914, 'standard': 0.0028653295128939827, 'principal': 0.0028653295128939827, 'rugby': 0.004297994269340974, 'personal': 0.0014326647564469914, 'hand': 0.0028653295128939827, 'create': 0.0014326647564469914, 'project': 0.0014326647564469914, 'touch': 0.004297994269340974, 'recent': 0.0014326647564469914, 'throw': 0.0028653295128939827, 'family': 0.0028653295128939827, 'adapted': 0.0028653295128939827, 'freely': 0.0014326647564469914, 'beginning': 0.0028653295128939827, 'us': 0.0014326647564469914, 'century': 0.0028653295128939827, 'lack': 0.0014326647564469914, 'volleyball': 0.0071633237822349575, 'share': 0.0028653295128939827, 'tossing': 0.0028653295128939827, 'ubuntu': 0.0014326647564469914, 'chemical': 0.004297994269340974, 'extent': 0.0028653295128939827, 'olympics': 0.0028653295128939827, 'stack': 0.0014326647564469914, 'referred': 0.0028653295128939827, 'iot': 0.0014326647564469914, 'clone': 0.0014326647564469914, 'september': 0.0014326647564469914, 'away': 0.0028653295128939827, 'dense': 0.0028653295128939827, 'program': 0.0028653295128939827, 'software': 0.0014326647564469914, 'extensive': 0.0028653295128939827, 'rebranded': 0.0014326647564469914, 'caters': 0.0014326647564469914, 'proceeds': 0.0028653295128939827, 'aurum': 0.0028653295128939827, 'form': 0.0057306590257879654, 'linus': 0.0014326647564469914, 'condition': 0.0028653295128939827, 'behind': 0.0028653295128939827, 'offered': 0.0014326647564469914, 'technology': 0.0014326647564469914, 'least': 0.0028653295128939827, 'rally': 0.0028653295128939827, 'graphical': 0.0014326647564469914, 'nugget': 0.0028653295128939827, 'pre': 0.0014326647564469914, 'modification': 0.0014326647564469914, 'generally': 0.004297994269340974, 'known': 0.004297994269340974, 'due': 0.0014326647564469914, 'x': 0.0014326647564469914, 'defunct': 0.0014326647564469914, 'atomic': 0.004297994269340974, 'malleable': 0.0028653295128939827, 'naturally': 0.0028653295128939827, 'varying': 0.004297994269340974, 'essentially': 0.0028653295128939827, 'originally': 0.0014326647564469914, 'supporting': 0.0014326647564469914, 'popular': 0.0028653295128939827, 'interest': 0.0014326647564469914, 'football': 0.02005730659025788, 'run': 0.0057306590257879654, 'microsoft': 0.0014326647564469914, 'gnome': 0.0014326647564469914, 'tokyo': 0.0028653295128939827, 'kde': 0.0014326647564469914, 'gaelic': 0.0028653295128939827, 'american': 0.0028653295128939827, 'lamp': 0.0014326647564469914, 'order': 0.0028653295128939827, 'th': 0.0028653295128939827, 'android': 0.0014326647564469914, 'operating': 0.0014326647564469914, 'defensive': 0.0028653295128939827, 'legally': 0.0028653295128939827, 'advance': 0.0057306590257879654, 'america': 0.0028653295128939827, 'sitting': 0.0028653295128939827, 'first': 0.004297994269340974, 'world': 0.0028653295128939827, 'graphic': 0.0014326647564469914, 'unqualified': 0.0028653295128939827, 'turn': 0.0028653295128939827, 'do': 0.0014326647564469914, 'sector': 0.0014326647564469914, 'number': 0.0057306590257879654, 'back': 0.004297994269340974, 'gui': 0.0014326647564469914, 'release': 0.0014326647564469914, 'school': 0.0028653295128939827, 'two': 0.004297994269340974, 'vein': 0.0028653295128939827, 'serving': 0.0028653295128939827, 'user': 0.0014326647564469914, 'english': 0.0028653295128939827, 'receiving': 0.0028653295128939827, 'altogether': 0.0014326647564469914, 'time': 0.0014326647564469914, 'new': 0.0014326647564469914, 'used': 0.0028653295128939827, 'lubuntu': 0.0014326647564469914, 'marketed': 0.0014326647564469914, 'several': 0.0028653295128939827, 'many': 0.0028653295128939827, 'atlanta': 0.0028653295128939827, 'opponent': 0.0028653295128939827, 'various': 0.0028653295128939827, 'desktop': 0.0014326647564469914, 'example': 0.0014326647564469914, 'pitcher': 0.004297994269340974, 'element': 0.0071633237822349575, 'however': 0.0014326647564469914, 'causing': 0.0014326647564469914, 'offensive': 0.0028653295128939827, 'codification': 0.0028653295128939827, 'separated': 0.0028653295128939827, 'field': 0.0028653295128939827, 'computing': 0.0014326647564469914, 'redistributable': 0.0014326647564469914, 'debian': 0.0014326647564469914, 'library': 0.0014326647564469914, 'persists': 0.0028653295128939827, 'set': 0.0028653295128939827}]\n"
          ]
        }
      ]
    },
    {
      "cell_type": "markdown",
      "source": [
        "## **class 0 is operating system  class 1 is sport **"
      ],
      "metadata": {
        "id": "qY836UGxjY0D"
      }
    },
    {
      "cell_type": "code",
      "source": [
        "max_prob=max(model.predict(os_test))\n",
        "print(\"class: \",model.predict(os_test).index(max_prob))"
      ],
      "metadata": {
        "colab": {
          "base_uri": "https://localhost:8080/"
        },
        "id": "kOUBpdyE7uCs",
        "outputId": "728ca335-0f7e-44a5-f813-90a93086d344"
      },
      "execution_count": 35,
      "outputs": [
        {
          "output_type": "stream",
          "name": "stdout",
          "text": [
            "class:  0\n"
          ]
        }
      ]
    },
    {
      "cell_type": "code",
      "source": [
        "max_prob=max(model.predict(sport_test))\n",
        "print(\"class :\",model.predict(sport_test).index(max_prob))"
      ],
      "metadata": {
        "colab": {
          "base_uri": "https://localhost:8080/"
        },
        "id": "JrEXGKN17o2x",
        "outputId": "334213aa-5eea-4e53-9508-93b07447ff01"
      },
      "execution_count": 36,
      "outputs": [
        {
          "output_type": "stream",
          "name": "stdout",
          "text": [
            "class : 1\n"
          ]
        }
      ]
    }
  ]
}